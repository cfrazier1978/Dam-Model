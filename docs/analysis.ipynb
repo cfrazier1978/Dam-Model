{
 "cells": [
  {
   "cell_type": "code",
   "execution_count": 1,
   "id": "d7920f86-1e7d-4fea-9854-36ecbed97ea1",
   "metadata": {},
   "outputs": [],
   "source": [
    "import ipywidgets as widgets\n",
    "from IPython.display import display"
   ]
  },
  {
   "cell_type": "code",
   "execution_count": 2,
   "id": "3824c56a-f55c-45ed-b152-1fce9d05392e",
   "metadata": {},
   "outputs": [
    {
     "data": {
      "application/vnd.jupyter.widget-view+json": {
       "model_id": "3aee87486855461d9b27c2d21c3ccf32",
       "version_major": 2,
       "version_minor": 0
      },
      "text/plain": [
       "RadioButtons(description='River Selection:', options=('Blue Nile', 'White Nile', 'Atbara'), value='Blue Nile')"
      ]
     },
     "execution_count": 2,
     "metadata": {},
     "output_type": "execute_result"
    }
   ],
   "source": [
    "radio_button = widgets.RadioButtons(\n",
    "    options=['Blue Nile', 'White Nile', 'Atbara'],\n",
    "    description='River Selection:',\n",
    "    disabled=False\n",
    ")\n",
    "\n",
    "radio_button"
   ]
  }
 ],
 "metadata": {
  "kernelspec": {
   "display_name": "Python 3 (ipykernel)",
   "language": "python",
   "name": "python3"
  },
  "language_info": {
   "codemirror_mode": {
    "name": "ipython",
    "version": 3
   },
   "file_extension": ".py",
   "mimetype": "text/x-python",
   "name": "python",
   "nbconvert_exporter": "python",
   "pygments_lexer": "ipython3",
   "version": "3.9.13"
  },
  "widgets": {
   "application/vnd.jupyter.widget-state+json": {
    "state": {
     "3aee87486855461d9b27c2d21c3ccf32": {
      "model_module": "@jupyter-widgets/controls",
      "model_module_version": "2.0.0",
      "model_name": "RadioButtonsModel",
      "state": {
       "_options_labels": [
        "Blue Nile",
        "White Nile",
        "Atbara"
       ],
       "description": "River Selection:",
       "index": 0,
       "layout": "IPY_MODEL_a7b68f7120a84c918417d793b2f9cca5",
       "style": "IPY_MODEL_935b7460edb3402e9730747cb1a91502"
      }
     },
     "935b7460edb3402e9730747cb1a91502": {
      "model_module": "@jupyter-widgets/controls",
      "model_module_version": "2.0.0",
      "model_name": "DescriptionStyleModel",
      "state": {
       "description_width": ""
      }
     },
     "a7b68f7120a84c918417d793b2f9cca5": {
      "model_module": "@jupyter-widgets/base",
      "model_module_version": "2.0.0",
      "model_name": "LayoutModel",
      "state": {}
     }
    },
    "version_major": 2,
    "version_minor": 0
   }
  }
 },
 "nbformat": 4,
 "nbformat_minor": 5
}
