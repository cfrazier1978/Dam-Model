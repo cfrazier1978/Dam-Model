{
 "cells": [
  {
   "cell_type": "code",
   "execution_count": 1,
   "id": "d7920f86-1e7d-4fea-9854-36ecbed97ea1",
   "metadata": {},
   "outputs": [],
   "source": [
    "from IPython.display import display, Javascript\n",
    "import ipywidgets as widgets\n",
    "import matplotlib.pyplot as plt\n",
    "import pandas as pd"
   ]
  },
  {
   "cell_type": "code",
   "execution_count": 2,
   "id": "3824c56a-f55c-45ed-b152-1fce9d05392e",
   "metadata": {
    "tags": []
   },
   "outputs": [],
   "source": [
    "river_selection = widgets.RadioButtons(\n",
    "    description='River Selection',\n",
    "    disabled=False,\n",
    "    options=['Blue Nile', 'White Nile', 'Atbara', 'All Rivers'],\n",
    "    value='All Rivers',\n",
    ")\n",
    "\n",
    "reserve_percentage = widgets.FloatSlider(\n",
    "    description='Reserve %',\n",
    "    max=100,\n",
    "    min=0,\n",
    "    step=10,\n",
    "    value=30,\n",
    ")\n",
    "\n",
    "river_data = pd.DataFrame({\n",
    "    'Month':['January','February','March','April','May','June','July','August','September','October','November','December'],\n",
    "    'Blue Nile':[724,448,406,427,503,1084,4989,15237,13625,7130,2451,1257],\n",
    "    'White Nile':[2469,1905,2014,2225,2026,1792,1368,1435,2236,3024,2786,2747],\n",
    "    'Atbara':[17,6,1,3,8,88,1536,5126,3306,770,145,46],\n",
    "    'All Rivers':[3210,2359,2421,2655,2537,2964,7893,21798,19167,10924,5382,4050],\n",
    "})"
   ]
  },
  {
   "cell_type": "code",
   "execution_count": 3,
   "id": "d6903149-882c-4aa0-af52-b62002bae617",
   "metadata": {},
   "outputs": [
    {
     "data": {
      "application/vnd.jupyter.widget-view+json": {
       "model_id": "c5a5a33dd87243e4b290c62ed7b9ecd3",
       "version_major": 2,
       "version_minor": 0
      },
      "text/plain": [
       "RadioButtons(description='River Selection', index=3, options=('Blue Nile', 'White Nile', 'Atbara', 'All Rivers…"
      ]
     },
     "metadata": {},
     "output_type": "display_data"
    },
    {
     "data": {
      "application/vnd.jupyter.widget-view+json": {
       "model_id": "b48011620dbf4476b7c1441e703ba50e",
       "version_major": 2,
       "version_minor": 0
      },
      "text/plain": [
       "FloatSlider(value=30.0, description='Reserve %', step=10.0)"
      ]
     },
     "metadata": {},
     "output_type": "display_data"
    }
   ],
   "source": [
    "# Selections\n",
    "display(river_selection)\n",
    "display(reserve_percentage)"
   ]
  },
  {
   "cell_type": "code",
   "execution_count": 4,
   "id": "1dd99f1d-bc3a-4043-9399-ed392fdb0805",
   "metadata": {},
   "outputs": [
    {
     "data": {
      "application/vnd.jupyter.widget-view+json": {
       "model_id": "f3135a43f9c54b72babe4eb6a32277da",
       "version_major": 2,
       "version_minor": 0
      },
      "text/plain": [
       "Button(description='Refresh!', style=ButtonStyle())"
      ]
     },
     "metadata": {},
     "output_type": "display_data"
    },
    {
     "data": {
      "application/vnd.jupyter.widget-view+json": {
       "model_id": "4e4b710f153046879af5a1b96225064b",
       "version_major": 2,
       "version_minor": 0
      },
      "text/plain": [
       "Output()"
      ]
     },
     "metadata": {},
     "output_type": "display_data"
    }
   ],
   "source": [
    "button = widgets.Button(description=\"Refresh!\")\n",
    "output = widgets.Output()\n",
    "\n",
    "display(button, output)\n",
    "\n",
    "def on_button_clicked(a):\n",
    "    with output:\n",
    "        river_data.plot(kind='bar',x='Month',y=river_selection.value, ylabel='Test')\n",
    "\n",
    "button.on_click(on_button_clicked)"
   ]
  },
  {
   "cell_type": "code",
   "execution_count": 5,
   "id": "ecf54862-378d-40a5-b7db-f1bd0a6b44b9",
   "metadata": {},
   "outputs": [
    {
     "data": {
      "application/vnd.jupyter.widget-view+json": {
       "model_id": "4e4b710f153046879af5a1b96225064b",
       "version_major": 2,
       "version_minor": 0
      },
      "text/plain": [
       "Output()"
      ]
     },
     "execution_count": 5,
     "metadata": {},
     "output_type": "execute_result"
    }
   ],
   "source": [
    "output"
   ]
  },
  {
   "cell_type": "code",
   "execution_count": null,
   "id": "35423b70-712a-433d-8cd1-b6f09da6003c",
   "metadata": {},
   "outputs": [],
   "source": []
  }
 ],
 "metadata": {
  "kernelspec": {
   "display_name": "Python 3 (ipykernel)",
   "language": "python",
   "name": "python3"
  },
  "language_info": {
   "codemirror_mode": {
    "name": "ipython",
    "version": 3
   },
   "file_extension": ".py",
   "mimetype": "text/x-python",
   "name": "python",
   "nbconvert_exporter": "python",
   "pygments_lexer": "ipython3",
   "version": "3.9.13"
  },
  "widgets": {
   "application/vnd.jupyter.widget-state+json": {
    "state": {
     "0dfff50e2880495d9d19229c90b66790": {
      "model_module": "@jupyter-widgets/controls",
      "model_module_version": "2.0.0",
      "model_name": "DescriptionStyleModel",
      "state": {
       "description_width": ""
      }
     },
     "263c417cea8d4c63ada29bfa2a63d243": {
      "model_module": "@jupyter-widgets/controls",
      "model_module_version": "2.0.0",
      "model_name": "ButtonStyleModel",
      "state": {
       "font_family": null,
       "font_size": null,
       "font_style": null,
       "font_variant": null,
       "font_weight": null,
       "text_color": null,
       "text_decoration": null
      }
     },
     "26765372cc1447a19818170b43396394": {
      "model_module": "@jupyter-widgets/controls",
      "model_module_version": "2.0.0",
      "model_name": "SliderStyleModel",
      "state": {
       "description_width": ""
      }
     },
     "4e4b710f153046879af5a1b96225064b": {
      "model_module": "@jupyter-widgets/output",
      "model_module_version": "1.0.0",
      "model_name": "OutputModel",
      "state": {
       "layout": "IPY_MODEL_d91767a6843b4430b68ec47a46d2cea1"
      }
     },
     "61dccdc296484e159e4b6d501ba0654b": {
      "model_module": "@jupyter-widgets/base",
      "model_module_version": "2.0.0",
      "model_name": "LayoutModel",
      "state": {}
     },
     "b48011620dbf4476b7c1441e703ba50e": {
      "model_module": "@jupyter-widgets/controls",
      "model_module_version": "2.0.0",
      "model_name": "FloatSliderModel",
      "state": {
       "behavior": "drag-tap",
       "description": "Reserve %",
       "layout": "IPY_MODEL_cd07d0d0725f4feda28d5afbc9306ab5",
       "step": 10,
       "style": "IPY_MODEL_26765372cc1447a19818170b43396394",
       "value": 30
      }
     },
     "c5a5a33dd87243e4b290c62ed7b9ecd3": {
      "model_module": "@jupyter-widgets/controls",
      "model_module_version": "2.0.0",
      "model_name": "RadioButtonsModel",
      "state": {
       "_options_labels": [
        "Blue Nile",
        "White Nile",
        "Atbara",
        "All Rivers"
       ],
       "description": "River Selection",
       "index": 3,
       "layout": "IPY_MODEL_f01228cb87a44068b2cff2221d82177f",
       "style": "IPY_MODEL_0dfff50e2880495d9d19229c90b66790"
      }
     },
     "cd07d0d0725f4feda28d5afbc9306ab5": {
      "model_module": "@jupyter-widgets/base",
      "model_module_version": "2.0.0",
      "model_name": "LayoutModel",
      "state": {}
     },
     "d91767a6843b4430b68ec47a46d2cea1": {
      "model_module": "@jupyter-widgets/base",
      "model_module_version": "2.0.0",
      "model_name": "LayoutModel",
      "state": {}
     },
     "f01228cb87a44068b2cff2221d82177f": {
      "model_module": "@jupyter-widgets/base",
      "model_module_version": "2.0.0",
      "model_name": "LayoutModel",
      "state": {}
     },
     "f3135a43f9c54b72babe4eb6a32277da": {
      "model_module": "@jupyter-widgets/controls",
      "model_module_version": "2.0.0",
      "model_name": "ButtonModel",
      "state": {
       "description": "Refresh!",
       "layout": "IPY_MODEL_61dccdc296484e159e4b6d501ba0654b",
       "style": "IPY_MODEL_263c417cea8d4c63ada29bfa2a63d243",
       "tooltip": null
      }
     }
    },
    "version_major": 2,
    "version_minor": 0
   }
  }
 },
 "nbformat": 4,
 "nbformat_minor": 5
}
