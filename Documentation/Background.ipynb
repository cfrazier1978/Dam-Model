{
 "cells": [
  {
   "cell_type": "markdown",
   "metadata": {},
   "source": [
    "# Water Model of the Grand Ethiopian Renaissance Dam\n",
    "\n",
    "BACKGROUND: \n",
    "\n",
    "Ethiopia is in the process of building a massive dam on the Nile river called the Grand Ethiopian Renaissance Dam. This dam will provide water and power for the people of Ethiopia, but there is concern by Egypt (who is down river of the Nile) that this dam will greatly affect the amount of water they receive from the Nile. There are many estimates of how long it would take to fill the reservoir, anywhere between 2 to 40 years, each with a big impact to the goals of Ethiopia and Egypt.\n",
    "\n",
    "MODEL PURPOSE: \n",
    "\n",
    "The purpose of this model is not to analyze the hydro politics between the two countries. Rather, the goal is to create a model that observes the effects of different number of years to fill the reservoir behind the dam and how each timeline affects how much water flows down the Nile into Egypt.  This model will also take into consideration weather events such as rain, flooding, drought and evaporation.\n",
    "\n",
    "All water is measured in CUBIC METERS (m^3)\n",
    "\n",
    "ABBREVIATIONS \n",
    "\n",
    "GERD: Grand Ethiopian Renaissance Dam\n",
    " \n",
    "ASSUMPTIONS:\n",
    "- \n",
    "The water flow of the Blue Nile River can pass through the GERD at its normal flow levels.  Otherwise the dam would always have uncontrolled spillover, using the Auxilary Spillway once the reservoir as at full capacity."
   ]
  }
 ],
 "metadata": {
  "language_info": {
   "name": "python"
  },
  "orig_nbformat": 4
 },
 "nbformat": 4,
 "nbformat_minor": 2
}
