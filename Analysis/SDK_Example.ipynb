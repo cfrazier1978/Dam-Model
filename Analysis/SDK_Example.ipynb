{
 "cells": [
  {
   "cell_type": "code",
   "execution_count": null,
   "id": "e1cfaea3-11fd-4e3f-887a-71b1b8911e1a",
   "metadata": {},
   "outputs": [],
   "source": [
    "from blocksciencelabs import Client\n",
    "labs = Client()\n",
    "results = labs.fetch_results(ID)\n",
    "print(results)"
   ]
  },
  {
   "cell_type": "code",
   "execution_count": null,
   "id": "911b6a9b-fd2c-4e34-8dbd-2e8f3f321b4a",
   "metadata": {},
   "outputs": [],
   "source": [
    "# !pip install matplotlib\n",
    "# import pandas as pd\n",
    "# from blocksciencelabs import Client\n",
    "# labs = Client()\n",
    "# results = labs.fetch_results(30)\n",
    "# df = pd.DataFrame(results)\n",
    "# df"
   ]
  },
  {
   "cell_type": "code",
   "execution_count": null,
   "id": "1c39999c-4ca6-4c0a-8b88-b6a677e4a0f0",
   "metadata": {},
   "outputs": [],
   "source": [
    "# df.plot(x ='timestep', y=['Reservoir_Level'], kind = 'line', color = 'red')"
   ]
  }
 ],
 "metadata": {
  "kernelspec": {
   "display_name": "Python 3 (ipykernel)",
   "language": "python",
   "name": "python3"
  },
  "language_info": {
   "codemirror_mode": {
    "name": "ipython",
    "version": 3
   },
   "file_extension": ".py",
   "mimetype": "text/x-python",
   "name": "python",
   "nbconvert_exporter": "python",
   "pygments_lexer": "ipython3",
   "version": "3.9.7"
  }
 },
 "nbformat": 4,
 "nbformat_minor": 5
}
