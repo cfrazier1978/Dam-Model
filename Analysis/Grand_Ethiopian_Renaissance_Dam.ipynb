{
 "cells": [
  {
   "cell_type": "code",
   "execution_count": 1,
   "metadata": {
    "colab": {
     "base_uri": "https://localhost:8080/",
     "height": 299
    },
    "colab_type": "code",
    "id": "A0veFDIsIf2q",
    "outputId": "33ab92e8-cbb3-467c-9b69-9f12491ac65b",
    "tags": []
   },
   "outputs": [
    {
     "name": "stdout",
     "output_type": "stream",
     "text": [
      "Collecting cadCAD==0.4.27\n",
      "  Using cached cadCAD-0.4.27-py3-none-any.whl (57 kB)\n",
      "Requirement already satisfied: fn in /opt/conda/lib/python3.9/site-packages (from cadCAD==0.4.27) (0.4.3)\n",
      "Requirement already satisfied: pandas in /home/jovyan/.local/lib/python3.9/site-packages (from cadCAD==0.4.27) (1.1.5)\n",
      "Requirement already satisfied: funcy in /opt/conda/lib/python3.9/site-packages (from cadCAD==0.4.27) (1.17)\n",
      "Requirement already satisfied: pathos in /opt/conda/lib/python3.9/site-packages (from cadCAD==0.4.27) (0.2.9)\n",
      "Requirement already satisfied: pytz>=2017.2 in /home/jovyan/.local/lib/python3.9/site-packages (from pandas->cadCAD==0.4.27) (2022.1)\n",
      "Requirement already satisfied: numpy>=1.15.4 in /home/jovyan/.local/lib/python3.9/site-packages (from pandas->cadCAD==0.4.27) (1.22.4)\n",
      "Requirement already satisfied: python-dateutil>=2.7.3 in /home/jovyan/.local/lib/python3.9/site-packages (from pandas->cadCAD==0.4.27) (2.8.2)\n",
      "Requirement already satisfied: dill>=0.3.5.1 in /opt/conda/lib/python3.9/site-packages (from pathos->cadCAD==0.4.27) (0.3.5.1)\n",
      "Requirement already satisfied: pox>=0.3.1 in /opt/conda/lib/python3.9/site-packages (from pathos->cadCAD==0.4.27) (0.3.1)\n",
      "Requirement already satisfied: multiprocess>=0.70.13 in /opt/conda/lib/python3.9/site-packages (from pathos->cadCAD==0.4.27) (0.70.13)\n",
      "Requirement already satisfied: ppft>=1.7.6.5 in /opt/conda/lib/python3.9/site-packages (from pathos->cadCAD==0.4.27) (1.7.6.5)\n",
      "Requirement already satisfied: six>=1.7.3 in /home/jovyan/.local/lib/python3.9/site-packages (from ppft>=1.7.6.5->pathos->cadCAD==0.4.27) (1.16.0)\n",
      "Installing collected packages: cadCAD\n",
      "  Attempting uninstall: cadCAD\n",
      "    Found existing installation: cadCAD 0.4.28\n",
      "    Uninstalling cadCAD-0.4.28:\n",
      "\u001b[31mERROR: Could not install packages due to an OSError: [Errno 13] Permission denied: 'AUTHORS.txt'\n",
      "Consider using the `--user` option or check the permissions.\n",
      "\u001b[0m\u001b[31m\n",
      "\u001b[0m\u001b[33mWARNING: Ignoring invalid distribution -adcad (/opt/conda/lib/python3.9/site-packages)\u001b[0m\u001b[33m\n",
      "\u001b[0mCollecting matplotlib\n",
      "  Using cached matplotlib-3.5.2-cp39-cp39-manylinux_2_5_x86_64.manylinux1_x86_64.whl (11.2 MB)\n",
      "Requirement already satisfied: numpy>=1.17 in /home/jovyan/.local/lib/python3.9/site-packages (from matplotlib) (1.22.4)\n",
      "Requirement already satisfied: python-dateutil>=2.7 in /home/jovyan/.local/lib/python3.9/site-packages (from matplotlib) (2.8.2)\n",
      "Collecting pillow>=6.2.0\n",
      "  Using cached Pillow-9.1.1-cp39-cp39-manylinux_2_17_x86_64.manylinux2014_x86_64.whl (3.1 MB)\n",
      "Requirement already satisfied: packaging>=20.0 in /opt/conda/lib/python3.9/site-packages (from matplotlib) (21.3)\n",
      "Collecting fonttools>=4.22.0\n",
      "  Using cached fonttools-4.33.3-py3-none-any.whl (930 kB)\n",
      "Requirement already satisfied: pyparsing>=2.2.1 in /opt/conda/lib/python3.9/site-packages (from matplotlib) (3.0.9)\n",
      "Collecting cycler>=0.10\n",
      "  Using cached cycler-0.11.0-py3-none-any.whl (6.4 kB)\n",
      "Collecting kiwisolver>=1.0.1\n",
      "  Downloading kiwisolver-1.4.3-cp39-cp39-manylinux_2_12_x86_64.manylinux2010_x86_64.whl (1.6 MB)\n",
      "\u001b[2K     \u001b[90m━━━━━━━━━━━━━━━━━━━━━━━━━━━━━━━━━━━━━━━━\u001b[0m \u001b[32m1.6/1.6 MB\u001b[0m \u001b[31m11.5 MB/s\u001b[0m eta \u001b[36m0:00:00\u001b[0m \u001b[36m0:00:01\u001b[0m\n",
      "\u001b[?25hRequirement already satisfied: six>=1.5 in /home/jovyan/.local/lib/python3.9/site-packages (from python-dateutil>=2.7->matplotlib) (1.16.0)\n",
      "\u001b[33mWARNING: Ignoring invalid distribution -adcad (/opt/conda/lib/python3.9/site-packages)\u001b[0m\u001b[33m\n",
      "\u001b[0mInstalling collected packages: pillow, kiwisolver, fonttools, cycler, matplotlib\n",
      "\u001b[33mWARNING: Ignoring invalid distribution -adcad (/opt/conda/lib/python3.9/site-packages)\u001b[0m\u001b[33m\n",
      "\u001b[0m\u001b[33mWARNING: Ignoring invalid distribution -adcad (/opt/conda/lib/python3.9/site-packages)\u001b[0m\u001b[33m\n",
      "\u001b[0m\u001b[33mWARNING: Ignoring invalid distribution -adcad (/opt/conda/lib/python3.9/site-packages)\u001b[0m\u001b[33m\n",
      "\u001b[0m\u001b[33mWARNING: Ignoring invalid distribution -adcad (/opt/conda/lib/python3.9/site-packages)\u001b[0m\u001b[33m\n",
      "\u001b[0m\u001b[33mWARNING: Ignoring invalid distribution -adcad (/opt/conda/lib/python3.9/site-packages)\u001b[0m\u001b[33m\n",
      "\u001b[0mSuccessfully installed cycler-0.11.0 fonttools-4.33.3 kiwisolver-1.4.3 matplotlib-3.5.2 pillow-9.1.1\n",
      "\u001b[33mWARNING: Ignoring invalid distribution -adcad (/opt/conda/lib/python3.9/site-packages)\u001b[0m\u001b[33m\n",
      "\u001b[0m\u001b[33mWARNING: Ignoring invalid distribution -adcad (/opt/conda/lib/python3.9/site-packages)\u001b[0m\u001b[33m\n",
      "\u001b[0m"
     ]
    }
   ],
   "source": [
    "!pip3 install cadCAD==0.4.27\n",
    "!pip install matplotlib\n",
    "import random\n",
    "from numpy.random import rand\n",
    "import matplotlib.pyplot as plt\n",
    "import pandas as pd\n"
   ]
  },
  {
   "cell_type": "markdown",
   "metadata": {
    "colab_type": "text",
    "id": "Hgp2yRr6LSSr"
   },
   "source": [
    "# Water Model of the Grand Ethiopian Renaissance Dam\n",
    "\n",
    "BACKGROUND: \n",
    "\n",
    "Ethiopia is in the process of building a massive dam on the Nile river called the Grand Ethiopian Renaissance Dam. This dam will provide water and power for the people of Ethiopia, but there is concern by Egypt (who is down river of the Nile) that this dam will greatly affect the amount of water they receive from the Nile. There are many estimates of how long it would take to fill the reservoir, anywhere between 2 to 40 years, each with a big impact to the goals of Ethiopia and Egypt.\n",
    "\n",
    "MODEL PURPOSE: \n",
    "\n",
    "The purpose of this model is not to analyze the hydro politics between the two countries. Rather, the goal is to create a model that observes the effects of different number of years to fill the reservoir behind the dam and how each timeline affects how much water flows down the Nile into Egypt.\n",
    "\n",
    "All water is measured in CUBIC METERS (m^3)\n",
    "\n",
    "ABBREVIATIONS \n",
    "\n",
    "GERD: Grand Ethiopian Renaissance Dam\n",
    " \n",
    "ASSUMPTIONS:\n",
    "- \n",
    "The water flow of the Blue Nile River can pass through the GERD at its normal flow levels.  Otherwise the dam would always have uncontrolled spillover, using the Auxilary Spillway once the reservoir as at full capacity."
   ]
  },
  {
   "cell_type": "code",
   "execution_count": 2,
   "metadata": {
    "colab": {},
    "colab_type": "code",
    "id": "R7sbQYIKUl4J"
   },
   "outputs": [],
   "source": [
    "genesis_states = {\n",
    "    'Reservoir_Capacity': 73000,        #The total amount of water that the Grand Ethiopian Renaissance Dam's reservoir can hold.\n",
    "    'Reservoir_Level': 0,               #The starting amount of water within the GERD's reservoir.\n",
    "    'Reserve_Percent': .05,              #A variable that will be updated with each time step that keeps track of how much of the water flowing through the dam to hold back to fill the reservoir.\n",
    "    'Current_Month': 0,                 #Tracks what month the model is in so that the proper river water level can be pulled.\n",
    "    'Number_of_Years': 0                #Tracks how many years it takes to fill the reservoir.\n",
    "}"
   ]
  },
  {
   "cell_type": "code",
   "execution_count": 3,
   "metadata": {
    "colab": {
     "base_uri": "https://localhost:8080/",
     "height": 426
    },
    "colab_type": "code",
    "id": "5J9ptfcQVxIC",
    "outputId": "b01b5e63-b024-472c-941a-233b31b1ee74"
   },
   "outputs": [
    {
     "data": {
      "text/html": [
       "<div>\n",
       "<style scoped>\n",
       "    .dataframe tbody tr th:only-of-type {\n",
       "        vertical-align: middle;\n",
       "    }\n",
       "\n",
       "    .dataframe tbody tr th {\n",
       "        vertical-align: top;\n",
       "    }\n",
       "\n",
       "    .dataframe thead th {\n",
       "        text-align: right;\n",
       "    }\n",
       "</style>\n",
       "<table border=\"1\" class=\"dataframe\">\n",
       "  <thead>\n",
       "    <tr style=\"text-align: right;\">\n",
       "      <th></th>\n",
       "      <th>Month</th>\n",
       "      <th>Blue_Nile_Water_Flow</th>\n",
       "      <th>White_Nile_Water_Flow</th>\n",
       "      <th>Atbara_River_Water_Flow</th>\n",
       "      <th>Total_Water_Flow</th>\n",
       "    </tr>\n",
       "  </thead>\n",
       "  <tbody>\n",
       "    <tr>\n",
       "      <th>0</th>\n",
       "      <td>January</td>\n",
       "      <td>724</td>\n",
       "      <td>2469</td>\n",
       "      <td>17</td>\n",
       "      <td>3210</td>\n",
       "    </tr>\n",
       "    <tr>\n",
       "      <th>1</th>\n",
       "      <td>February</td>\n",
       "      <td>448</td>\n",
       "      <td>1905</td>\n",
       "      <td>6</td>\n",
       "      <td>2359</td>\n",
       "    </tr>\n",
       "    <tr>\n",
       "      <th>2</th>\n",
       "      <td>March</td>\n",
       "      <td>406</td>\n",
       "      <td>2014</td>\n",
       "      <td>1</td>\n",
       "      <td>2421</td>\n",
       "    </tr>\n",
       "    <tr>\n",
       "      <th>3</th>\n",
       "      <td>April</td>\n",
       "      <td>427</td>\n",
       "      <td>2225</td>\n",
       "      <td>3</td>\n",
       "      <td>2655</td>\n",
       "    </tr>\n",
       "    <tr>\n",
       "      <th>4</th>\n",
       "      <td>May</td>\n",
       "      <td>503</td>\n",
       "      <td>2026</td>\n",
       "      <td>8</td>\n",
       "      <td>2537</td>\n",
       "    </tr>\n",
       "    <tr>\n",
       "      <th>5</th>\n",
       "      <td>June</td>\n",
       "      <td>1084</td>\n",
       "      <td>1792</td>\n",
       "      <td>88</td>\n",
       "      <td>2964</td>\n",
       "    </tr>\n",
       "    <tr>\n",
       "      <th>6</th>\n",
       "      <td>July</td>\n",
       "      <td>4989</td>\n",
       "      <td>1368</td>\n",
       "      <td>1536</td>\n",
       "      <td>7893</td>\n",
       "    </tr>\n",
       "    <tr>\n",
       "      <th>7</th>\n",
       "      <td>August</td>\n",
       "      <td>15237</td>\n",
       "      <td>1435</td>\n",
       "      <td>5126</td>\n",
       "      <td>21798</td>\n",
       "    </tr>\n",
       "    <tr>\n",
       "      <th>8</th>\n",
       "      <td>September</td>\n",
       "      <td>13625</td>\n",
       "      <td>2236</td>\n",
       "      <td>3306</td>\n",
       "      <td>19167</td>\n",
       "    </tr>\n",
       "    <tr>\n",
       "      <th>9</th>\n",
       "      <td>October</td>\n",
       "      <td>7130</td>\n",
       "      <td>3024</td>\n",
       "      <td>770</td>\n",
       "      <td>10924</td>\n",
       "    </tr>\n",
       "    <tr>\n",
       "      <th>10</th>\n",
       "      <td>November</td>\n",
       "      <td>2451</td>\n",
       "      <td>2786</td>\n",
       "      <td>145</td>\n",
       "      <td>5382</td>\n",
       "    </tr>\n",
       "    <tr>\n",
       "      <th>11</th>\n",
       "      <td>December</td>\n",
       "      <td>1257</td>\n",
       "      <td>2747</td>\n",
       "      <td>46</td>\n",
       "      <td>4050</td>\n",
       "    </tr>\n",
       "  </tbody>\n",
       "</table>\n",
       "</div>"
      ],
      "text/plain": [
       "        Month  Blue_Nile_Water_Flow  White_Nile_Water_Flow  \\\n",
       "0     January                   724                   2469   \n",
       "1    February                   448                   1905   \n",
       "2       March                   406                   2014   \n",
       "3       April                   427                   2225   \n",
       "4         May                   503                   2026   \n",
       "5        June                  1084                   1792   \n",
       "6        July                  4989                   1368   \n",
       "7      August                 15237                   1435   \n",
       "8   September                 13625                   2236   \n",
       "9     October                  7130                   3024   \n",
       "10   November                  2451                   2786   \n",
       "11   December                  1257                   2747   \n",
       "\n",
       "    Atbara_River_Water_Flow  Total_Water_Flow  \n",
       "0                        17              3210  \n",
       "1                         6              2359  \n",
       "2                         1              2421  \n",
       "3                         3              2655  \n",
       "4                         8              2537  \n",
       "5                        88              2964  \n",
       "6                      1536              7893  \n",
       "7                      5126             21798  \n",
       "8                      3306             19167  \n",
       "9                       770             10924  \n",
       "10                      145              5382  \n",
       "11                       46              4050  "
      ]
     },
     "execution_count": 3,
     "metadata": {},
     "output_type": "execute_result"
    }
   ],
   "source": [
    "df = pd.DataFrame({\n",
    "    'Month':['January','February','March','April','May','June','July','August','September','October','November','December'],\n",
    "    'Blue_Nile_Water_Flow':[724,448,406,427,503,1084,4989,15237,13625,7130,2451,1257],\n",
    "    'White_Nile_Water_Flow':[2469,1905,2014,2225,2026,1792,1368,1435,2236,3024,2786,2747],\n",
    "    'Atbara_River_Water_Flow':[17,6,1,3,8,88,1536,5126,3306,770,145,46],\n",
    "    'Total_Water_Flow':[3210,2359,2421,2655,2537,2964,7893,21798,19167,10924,5382,4050]\n",
    "  \n",
    "})\n",
    "\n",
    "df"
   ]
  },
  {
   "cell_type": "code",
   "execution_count": 4,
   "metadata": {
    "colab": {
     "base_uri": "https://localhost:8080/",
     "height": 1000
    },
    "colab_type": "code",
    "id": "AnQBn_-XZDlg",
    "outputId": "538f375d-7c09-42e0-abbd-4beed4188578"
   },
   "outputs": [
    {
     "data": {
      "text/plain": [
       "<AxesSubplot:xlabel='Month'>"
      ]
     },
     "execution_count": 4,
     "metadata": {},
     "output_type": "execute_result"
    },
    {
     "data": {
      "image/png": "[encoded data removed]",
      "text/plain": [
       "<Figure size 432x288 with 1 Axes>"
      ]
     },
     "metadata": {
      "needs_background": "light"
     },
     "output_type": "display_data"
    },
    {
     "data": {
      "image/png": "[encoded data removed]",
      "text/plain": [
       "<Figure size 432x288 with 1 Axes>"
      ]
     },
     "metadata": {
      "needs_background": "light"
     },
     "output_type": "display_data"
    },
    {
     "data": {
      "image/png": "[encoded data removed]",
      "text/plain": [
       "<Figure size 432x288 with 1 Axes>"
      ]
     },
     "metadata": {
      "needs_background": "light"
     },
     "output_type": "display_data"
    },
    {
     "data": {
      "image/png": "[encoded data removed]",
      "text/plain": [
       "<Figure size 432x288 with 1 Axes>"
      ]
     },
     "metadata": {
      "needs_background": "light"
     },
     "output_type": "display_data"
    }
   ],
   "source": [
    "import matplotlib.pyplot as plt\n",
    "import pandas as pd\n",
    "\n",
    "# Water flow bar charts for each of the rivers within the Model\n",
    "df.plot(kind='bar',x='Month',y='Blue_Nile_Water_Flow')\n",
    "df.plot(kind='bar',x='Month',y='White_Nile_Water_Flow')\n",
    "df.plot(kind='bar',x='Month',y='Atbara_River_Water_Flow')\n",
    "df.plot(kind='bar',x='Month',y='Total_Water_Flow')"
   ]
  },
  {
   "cell_type": "code",
   "execution_count": 5,
   "metadata": {
    "colab": {},
    "colab_type": "code",
    "id": "0EcJHPpZ8Mm8"
   },
   "outputs": [],
   "source": [
    "#Policies\n",
    "\n",
    "def Dam_Policy(params, step, sL, s):\n",
    "  f = 0\n",
    "  m = s['Current_Month']\n",
    "\n",
    "  if s['Reservoir_Level'] < s['Reservoir_Capacity']:\n",
    "    f = df.at[m, 'Blue_Nile_Water_Flow'] * s['Reserve_Percent']\n",
    "    if m == 11:\n",
    "      u = -11\n",
    "      y = 1\n",
    "    else:\n",
    "      u = 1\n",
    "      y = 0\n",
    "    return({'Dam_Reserve': f, 'Month_Update': u, 'Year_Update': y})\n",
    "  else:\n",
    "    f = 0\n",
    "    if m == 11:\n",
    "      u = -11\n",
    "      y = 0\n",
    "    else:\n",
    "      u = 1\n",
    "      y = 0\n",
    "    return({'Dam_Reserve': f, 'Month_Update': u, 'Year_Update': y})\n",
    "\n"
   ]
  },
  {
   "cell_type": "code",
   "execution_count": 6,
   "metadata": {
    "colab": {},
    "colab_type": "code",
    "id": "iiMT25lq8TJ_"
   },
   "outputs": [],
   "source": [
    "#Variables\n",
    "\n",
    "def Reservoir_Update(params, step, sL, s, _input):\n",
    "  k = 'Reservoir_Level'\n",
    "  v = s['Reservoir_Level'] + _input['Dam_Reserve']\n",
    "  return (k,v)\n",
    "\n",
    "def Month_Update(params, step, sL, s, _input):\n",
    "  k = 'Current_Month'\n",
    "  v = s['Current_Month'] + _input['Month_Update']\n",
    "  return (k,v)\n",
    "\n",
    "def Year_Update(params, step, sL, s, _input):\n",
    "  k = 'Number_of_Years'\n",
    "  v = s['Number_of_Years'] + _input['Year_Update']\n",
    "  return (k,v)"
   ]
  },
  {
   "cell_type": "code",
   "execution_count": 7,
   "metadata": {
    "colab": {},
    "colab_type": "code",
    "id": "6VsmwVV7IqZA"
   },
   "outputs": [],
   "source": [
    "# # # # # # # # # # # # # # # # # # # # # # # # # # # # # # # # # # # # # # # # # # # # # # # # \n",
    "# In the Partial State Update Blocks, the user specifies if state update functions will be run in series or in parallel\n",
    "partial_state_update_blocks = [\n",
    "    {\n",
    "        'policies': {\n",
    "            'Dam_Policy': Dam_Policy\n",
    "        },    \n",
    "        'variables': {\n",
    "            'Reservoir_Level': Reservoir_Update,\n",
    "            'Current_Month': Month_Update,\n",
    "            'Number_of_Years' : Year_Update\n",
    "        }\n",
    "    }\n",
    "\n",
    "]\n",
    "# # # # # # # # # # # # # # # # # # # # # # # # # # # # # # # # # # # # # # # # # # # # # # # # "
   ]
  },
  {
   "cell_type": "code",
   "execution_count": 8,
   "metadata": {
    "colab": {},
    "colab_type": "code",
    "id": "kYKHSmqZI0lE"
   },
   "outputs": [],
   "source": [
    "# # # # # # # # # # # # # # # # # # # # # # # # # # # # # # # # # # # # # # # # # # # # # # # # \n",
    "# Settings of general simulation parameters, unrelated to the system itself\n",
    "# `T` is a range with the number of discrete units of time the simulation will run for;\n",
    "# `N` is the number of times the simulation will be run (Monte Carlo runs)\n",
    "# In this example, we'll run the simulation once (N=1) and its duration will be of 10 timesteps\n",
    "# We'll cover the `M` key in a future article. For now, let's leave it empty\n",
    "simulation_parameters = {\n",
    "    'T': range(400),\n",
    "    'N': 1,\n",
    "    # 'M': {}\n",
    "}\n",
    "# # # # # # # # # # # # # # # # # # # # # # # # # # # # # # # # # # # # # # # # # # # # # # # # "
   ]
  },
  {
   "cell_type": "code",
   "execution_count": 9,
   "metadata": {
    "colab": {
     "base_uri": "https://localhost:8080/",
     "height": 205
    },
    "colab_type": "code",
    "id": "jHiAprg1IqmW",
    "outputId": "91fdedc1-9f94-46c3-e23d-27f1b00a337a",
    "tags": []
   },
   "outputs": [
    {
     "name": "stdout",
     "output_type": "stream",
     "text": [
      "\n",
      "                  ___________    ____\n",
      "  ________ __ ___/ / ____/   |  / __ \\\n",
      " / ___/ __` / __  / /   / /| | / / / /\n",
      "/ /__/ /_/ / /_/ / /___/ ___ |/ /_/ /\n",
      "\\___/\\__,_/\\__,_/\\____/_/  |_/_____/\n",
      "by cadCAD\n",
      "\n",
      "cadCAD Version: 0.4.28\n",
      "Execution Mode: local_proc\n",
      "Simulation Dimensions:\n",
      "Entire Simulation: (Models, Unique Timesteps, Params, Total Runs, Sub-States) = (1, 400, 0, 1, 5)\n",
      "     Simulation 0: (Timesteps, Params, Runs, Sub-States) = (400, 0, 1, 5)\n",
      "Execution Method: local_simulations\n",
      "Execution Mode: single_threaded\n",
      "Total execution time: 0.02s\n"
     ]
    }
   ],
   "source": [
    "#imported some addition utilities to help with configuration set-up\n",
    "from cadCAD.configuration.utils import config_sim\n",
    "from cadCAD.configuration import Experiment\n",
    "# from cadCAD import configs\n",
    "\n",
    "exp = Experiment()\n",
    "c = config_sim(simulation_parameters)\n",
    "# # # # # # # # # # # # # # # # # # # # # # # # # # # # # # # # # # # # # # # # # # # # # # # # \n",
    "# The configurations above are then packaged into a `Configuration` object\n",
    "# del configs[:]\n",
    "exp.append_configs(\n",
    "    # model_id = 'sys_model',\n",
    "    initial_state=genesis_states, #dict containing variable names and initial values\n",
    "    partial_state_update_blocks=partial_state_update_blocks, #dict containing state update functions\n",
    "    sim_configs=c #preprocessed dictionaries containing simulation parameters\n",
    "                       \n",
    "                      )\n",
    "# %%capture\n",
    "from cadCAD.engine import ExecutionContext, Executor,ExecutionMode\n",
    "exec_mode = ExecutionMode()\n",
    "local_mode_ctx = ExecutionContext(exec_mode.local_mode)\n",
    "\n",
    "from cadCAD.engine import Executor\n",
    "\n",
    "simulation = Executor(exec_context=local_mode_ctx, configs=exp.configs) # Pass the configuration object inside an array\n",
    "raw_system_events, tensor_field, sessions = simulation.execute() # The `execute()` method returns a tuple; its first elements contains the raw results"
   ]
  },
  {
   "cell_type": "code",
   "execution_count": null,
   "metadata": {},
   "outputs": [],
   "source": []
  },
  {
   "cell_type": "code",
   "execution_count": 10,
   "metadata": {},
   "outputs": [],
   "source": [
    "# #imported some addition utilities to help with configuration set-up\n",
    "# from cadCAD.configuration.utils import config_sim\n",
    "# from cadCAD.configuration import Experiment\n",
    "# from cadCAD import configs\n",
    "\n",
    "# exp = Experiment()\n",
    "# c = config_sim(simulation_parameters)\n",
    "# # # # # # # # # # # # # # # # # # # # # # # # # # # # # # # # # # # # # # # # # # # # # # # # # \n",
    "# # The configurations above are then packaged into a `Configuration` object\n",
    "# del configs[:]\n",
    "# exp.append_configs(\n",
    "#     # model_id = 'sys_model',\n",
    "#     initial_state=genesis_states, #dict containing variable names and initial values\n",
    "#     partial_state_update_blocks=partial_state_update_blocks, #dict containing state update functions\n",
    "#     sim_configs=c #preprocessed dictionaries containing simulation parameters\n",
    "                       \n",
    "#                       )\n",
    "# # %%capture\n",
    "# from cadCAD.engine import ExecutionMode, ExecutionContext\n",
    "# exec_mode = ExecutionMode()\n",
    "# local_mode_ctx = ExecutionContext(exec_mode.local_mode)\n",
    "\n",
    "# from cadCAD.engine import Executor\n",
    "\n",
    "# simulation = Executor(exec_context=local_mode_ctx, configs=configs) # Pass the configuration object inside an array\n",
    "# raw_system_events, tensor_field, sessions = simulation.execute() # The `execute()` method returns a tuple; its first elements contains the raw results"
   ]
  },
  {
   "cell_type": "code",
   "execution_count": 11,
   "metadata": {
    "colab": {
     "base_uri": "https://localhost:8080/",
     "height": 455
    },
    "colab_type": "code",
    "id": "7YhAuvDzKniG",
    "outputId": "9bf18177-8c8f-424e-a575-3d1a996eea96"
   },
   "outputs": [
    {
     "data": {
      "text/html": [
       "<div>\n",
       "<style scoped>\n",
       "    .dataframe tbody tr th:only-of-type {\n",
       "        vertical-align: middle;\n",
       "    }\n",
       "\n",
       "    .dataframe tbody tr th {\n",
       "        vertical-align: top;\n",
       "    }\n",
       "\n",
       "    .dataframe thead th {\n",
       "        text-align: right;\n",
       "    }\n",
       "</style>\n",
       "<table border=\"1\" class=\"dataframe\">\n",
       "  <thead>\n",
       "    <tr style=\"text-align: right;\">\n",
       "      <th></th>\n",
       "      <th></th>\n",
       "      <th></th>\n",
       "      <th>Reservoir_Capacity</th>\n",
       "      <th>Reservoir_Level</th>\n",
       "      <th>Reserve_Percent</th>\n",
       "      <th>Current_Month</th>\n",
       "      <th>Number_of_Years</th>\n",
       "      <th>simulation</th>\n",
       "      <th>subset</th>\n",
       "    </tr>\n",
       "    <tr>\n",
       "      <th>run</th>\n",
       "      <th>timestep</th>\n",
       "      <th>substep</th>\n",
       "      <th></th>\n",
       "      <th></th>\n",
       "      <th></th>\n",
       "      <th></th>\n",
       "      <th></th>\n",
       "      <th></th>\n",
       "      <th></th>\n",
       "    </tr>\n",
       "  </thead>\n",
       "  <tbody>\n",
       "    <tr>\n",
       "      <th rowspan=\"11\" valign=\"top\">1</th>\n",
       "      <th>0</th>\n",
       "      <th>0</th>\n",
       "      <td>73000</td>\n",
       "      <td>0.00</td>\n",
       "      <td>0.05</td>\n",
       "      <td>0</td>\n",
       "      <td>0</td>\n",
       "      <td>0</td>\n",
       "      <td>0</td>\n",
       "    </tr>\n",
       "    <tr>\n",
       "      <th>1</th>\n",
       "      <th>1</th>\n",
       "      <td>73000</td>\n",
       "      <td>36.20</td>\n",
       "      <td>0.05</td>\n",
       "      <td>1</td>\n",
       "      <td>0</td>\n",
       "      <td>0</td>\n",
       "      <td>0</td>\n",
       "    </tr>\n",
       "    <tr>\n",
       "      <th>2</th>\n",
       "      <th>1</th>\n",
       "      <td>73000</td>\n",
       "      <td>58.60</td>\n",
       "      <td>0.05</td>\n",
       "      <td>2</td>\n",
       "      <td>0</td>\n",
       "      <td>0</td>\n",
       "      <td>0</td>\n",
       "    </tr>\n",
       "    <tr>\n",
       "      <th>3</th>\n",
       "      <th>1</th>\n",
       "      <td>73000</td>\n",
       "      <td>78.90</td>\n",
       "      <td>0.05</td>\n",
       "      <td>3</td>\n",
       "      <td>0</td>\n",
       "      <td>0</td>\n",
       "      <td>0</td>\n",
       "    </tr>\n",
       "    <tr>\n",
       "      <th>4</th>\n",
       "      <th>1</th>\n",
       "      <td>73000</td>\n",
       "      <td>100.25</td>\n",
       "      <td>0.05</td>\n",
       "      <td>4</td>\n",
       "      <td>0</td>\n",
       "      <td>0</td>\n",
       "      <td>0</td>\n",
       "    </tr>\n",
       "    <tr>\n",
       "      <th>...</th>\n",
       "      <th>...</th>\n",
       "      <td>...</td>\n",
       "      <td>...</td>\n",
       "      <td>...</td>\n",
       "      <td>...</td>\n",
       "      <td>...</td>\n",
       "      <td>...</td>\n",
       "      <td>...</td>\n",
       "    </tr>\n",
       "    <tr>\n",
       "      <th>396</th>\n",
       "      <th>1</th>\n",
       "      <td>73000</td>\n",
       "      <td>73612.40</td>\n",
       "      <td>0.05</td>\n",
       "      <td>0</td>\n",
       "      <td>30</td>\n",
       "      <td>0</td>\n",
       "      <td>0</td>\n",
       "    </tr>\n",
       "    <tr>\n",
       "      <th>397</th>\n",
       "      <th>1</th>\n",
       "      <td>73000</td>\n",
       "      <td>73612.40</td>\n",
       "      <td>0.05</td>\n",
       "      <td>1</td>\n",
       "      <td>30</td>\n",
       "      <td>0</td>\n",
       "      <td>0</td>\n",
       "    </tr>\n",
       "    <tr>\n",
       "      <th>398</th>\n",
       "      <th>1</th>\n",
       "      <td>73000</td>\n",
       "      <td>73612.40</td>\n",
       "      <td>0.05</td>\n",
       "      <td>2</td>\n",
       "      <td>30</td>\n",
       "      <td>0</td>\n",
       "      <td>0</td>\n",
       "    </tr>\n",
       "    <tr>\n",
       "      <th>399</th>\n",
       "      <th>1</th>\n",
       "      <td>73000</td>\n",
       "      <td>73612.40</td>\n",
       "      <td>0.05</td>\n",
       "      <td>3</td>\n",
       "      <td>30</td>\n",
       "      <td>0</td>\n",
       "      <td>0</td>\n",
       "    </tr>\n",
       "    <tr>\n",
       "      <th>400</th>\n",
       "      <th>1</th>\n",
       "      <td>73000</td>\n",
       "      <td>73612.40</td>\n",
       "      <td>0.05</td>\n",
       "      <td>4</td>\n",
       "      <td>30</td>\n",
       "      <td>0</td>\n",
       "      <td>0</td>\n",
       "    </tr>\n",
       "  </tbody>\n",
       "</table>\n",
       "<p>401 rows × 7 columns</p>\n",
       "</div>"
      ],
      "text/plain": [
       "                      Reservoir_Capacity  Reservoir_Level  Reserve_Percent  \\\n",
       "run timestep substep                                                         \n",
       "1   0        0                     73000             0.00             0.05   \n",
       "    1        1                     73000            36.20             0.05   \n",
       "    2        1                     73000            58.60             0.05   \n",
       "    3        1                     73000            78.90             0.05   \n",
       "    4        1                     73000           100.25             0.05   \n",
       "...                                  ...              ...              ...   \n",
       "    396      1                     73000         73612.40             0.05   \n",
       "    397      1                     73000         73612.40             0.05   \n",
       "    398      1                     73000         73612.40             0.05   \n",
       "    399      1                     73000         73612.40             0.05   \n",
       "    400      1                     73000         73612.40             0.05   \n",
       "\n",
       "                      Current_Month  Number_of_Years  simulation  subset  \n",
       "run timestep substep                                                      \n",
       "1   0        0                    0                0           0       0  \n",
       "    1        1                    1                0           0       0  \n",
       "    2        1                    2                0           0       0  \n",
       "    3        1                    3                0           0       0  \n",
       "    4        1                    4                0           0       0  \n",
       "...                             ...              ...         ...     ...  \n",
       "    396      1                    0               30           0       0  \n",
       "    397      1                    1               30           0       0  \n",
       "    398      1                    2               30           0       0  \n",
       "    399      1                    3               30           0       0  \n",
       "    400      1                    4               30           0       0  \n",
       "\n",
       "[401 rows x 7 columns]"
      ]
     },
     "execution_count": 11,
     "metadata": {},
     "output_type": "execute_result"
    }
   ],
   "source": [
    "%matplotlib inline\n",
    "import pandas as pd\n",
    "df = pd.DataFrame(raw_system_events)\n",
    "df.set_index(['run', 'timestep', 'substep'])"
   ]
  },
  {
   "cell_type": "code",
   "execution_count": 12,
   "metadata": {
    "colab": {
     "base_uri": "https://localhost:8080/",
     "height": 298
    },
    "colab_type": "code",
    "id": "HqG2tYHH9nlg",
    "outputId": "1d42b0e4-6f4f-4b1d-e1d1-34c0bba92ed1"
   },
   "outputs": [
    {
     "data": {
      "text/plain": [
       "<AxesSubplot:xlabel='timestep'>"
      ]
     },
     "execution_count": 12,
     "metadata": {},
     "output_type": "execute_result"
    },
    {
     "data": {
      "image/png": "[encoded data removed]",
      "text/plain": [
       "<Figure size 432x288 with 1 Axes>"
      ]
     },
     "metadata": {
      "needs_background": "light"
     },
     "output_type": "display_data"
    }
   ],
   "source": [
    "df.plot(x ='timestep', y=['Reservoir_Level'], kind = 'line', color = 'red')"
   ]
  }
 ],
 "metadata": {
  "colab": {
   "collapsed_sections": [],
   "name": "Grand Ethiopian Renaissance Dam",
   "provenance": []
  },
  "interpreter": {
   "hash": "7a542ca580817fc4dd55327026e074e2fa0cd470fc5dee9350c2d8b13822db8d"
  },
  "kernelspec": {
   "display_name": "Python 3 (ipykernel)",
   "language": "python",
   "name": "python3"
  },
  "language_info": {
   "codemirror_mode": {
    "name": "ipython",
    "version": 3
   },
   "file_extension": ".py",
   "mimetype": "text/x-python",
   "name": "python",
   "nbconvert_exporter": "python",
   "pygments_lexer": "ipython3",
   "version": "3.9.13"
  }
 },
 "nbformat": 4,
 "nbformat_minor": 4
}
